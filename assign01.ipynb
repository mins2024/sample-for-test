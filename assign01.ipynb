{
  "nbformat": 4,
  "nbformat_minor": 0,
  "metadata": {
    "colab": {
      "provenance": [],
      "authorship_tag": "ABX9TyPFKRg3Z8/XjzI01i1fwp0l",
      "include_colab_link": true
    },
    "kernelspec": {
      "name": "python3",
      "display_name": "Python 3"
    },
    "language_info": {
      "name": "python"
    }
  },
  "cells": [
    {
      "cell_type": "markdown",
      "metadata": {
        "id": "view-in-github",
        "colab_type": "text"
      },
      "source": [
        "<a href=\"https://colab.research.google.com/github/mins2024/sample-for-test/blob/main/assign01.ipynb\" target=\"_parent\"><img src=\"https://colab.research.google.com/assets/colab-badge.svg\" alt=\"Open In Colab\"/></a>"
      ]
    },
    {
      "cell_type": "code",
      "execution_count": null,
      "metadata": {
        "id": "9H4b-hL0CUVb"
      },
      "outputs": [],
      "source": []
    },
    {
      "cell_type": "code",
      "source": [
        "# Simple code to print the current time in Seoul\n",
        "from datetime import datetime\n",
        "import pytz # Import the pytz module for timezone calcuations\n",
        "\n",
        "# Define the timezone for Seoul\n",
        "seoul_timezone = pytz. timezone('Asia/Seoul')\n",
        "\n",
        "# Get current time in Seoul's timezone\n",
        "now_seoul = datetime.now( seoul_timezone)\n",
        "\n",
        "# Format the time\n",
        "current_time_seoul = now_seoul.strftime(\"%H:%M:%S\")\n",
        "\n",
        "# Print the current time in Seoul\n",
        "print(\"Current Time in Seoul:\",current_time_seoul)"
      ],
      "metadata": {
        "colab": {
          "base_uri": "https://localhost:8080/"
        },
        "id": "_bi1cDgoDELW",
        "outputId": "f73eb7f9-0110-444a-9de9-94898f173d10"
      },
      "execution_count": 1,
      "outputs": [
        {
          "output_type": "stream",
          "name": "stdout",
          "text": [
            "Current Time in Seoul: 22:45:53\n"
          ]
        }
      ]
    }
  ]
}