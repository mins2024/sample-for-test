{
  "nbformat": 4,
  "nbformat_minor": 0,
  "metadata": {
    "colab": {
      "provenance": [],
      "authorship_tag": "ABX9TyNvqrUXOW7pM7uDipZ6gljA",
      "include_colab_link": true
    },
    "kernelspec": {
      "name": "python3",
      "display_name": "Python 3"
    },
    "language_info": {
      "name": "python"
    }
  },
  "cells": [
    {
      "cell_type": "markdown",
      "metadata": {
        "id": "view-in-github",
        "colab_type": "text"
      },
      "source": [
        "<a href=\"https://colab.research.google.com/github/mins2024/sample-for-test/blob/main/practice_variable.ipynb\" target=\"_parent\"><img src=\"https://colab.research.google.com/assets/colab-badge.svg\" alt=\"Open In Colab\"/></a>"
      ]
    },
    {
      "cell_type": "code",
      "source": [
        "x = 5\n",
        "y = \"Hello, World!\""
      ],
      "metadata": {
        "id": "V-0kSYndba5W"
      },
      "execution_count": 5,
      "outputs": []
    },
    {
      "cell_type": "code",
      "source": [
        "# Cell 1: Creating Variable\n",
        "name = \"John Done\"\n",
        "age = 30\n",
        "height = 5.9\n",
        "is_student = False\n",
        "\n",
        "# Cell 2: Working with Variable\n",
        "print(f\"Name : {name}\")\n",
        "print(f\"Age : {age}\")\n",
        "print(f\"Height: {height} feet\")\n",
        "print(f\"Is a student: {is_student}\")\n",
        "\n",
        "#Cell 3: Changing Variable Value\n",
        "age = 31\n",
        "print(f\"Updated Age: {age}\")"
      ],
      "metadata": {
        "colab": {
          "base_uri": "https://localhost:8080/"
        },
        "id": "clIPwRk3biP6",
        "outputId": "7a73c2fc-40eb-4ce5-a4c0-21cf6ffd3070"
      },
      "execution_count": 10,
      "outputs": [
        {
          "output_type": "stream",
          "name": "stdout",
          "text": [
            "Name : John Done\n",
            "Age : 30\n",
            "Height: 5.9 feet\n",
            "Is a student: False\n",
            "Updated Age: 31\n"
          ]
        }
      ]
    }
  ]
}