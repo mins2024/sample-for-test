{
  "nbformat": 4,
  "nbformat_minor": 0,
  "metadata": {
    "colab": {
      "provenance": [],
      "authorship_tag": "ABX9TyO4o9zVglc75LOx3WxeNl9M",
      "include_colab_link": true
    },
    "kernelspec": {
      "name": "python3",
      "display_name": "Python 3"
    },
    "language_info": {
      "name": "python"
    }
  },
  "cells": [
    {
      "cell_type": "markdown",
      "metadata": {
        "id": "view-in-github",
        "colab_type": "text"
      },
      "source": [
        "<a href=\"https://colab.research.google.com/github/mins2024/sample-for-test/blob/main/Lighthouse_quetions.ipynb\" target=\"_parent\"><img src=\"https://colab.research.google.com/assets/colab-badge.svg\" alt=\"Open In Colab\"/></a>"
      ]
    },
    {
      "cell_type": "code",
      "source": [
        "class Question:\n",
        "    def __init__(self, prompt, options, answer):\n",
        "        self.prompt = prompt\n",
        "        self.options = options\n",
        "        self.answer = answer\n",
        "\n",
        "questions = [\n",
        "    Question(\n",
        "        \"Which part of the letter is the following: 'Thank you very much for your kind words and thoughtful note. I am deeply touched by your gratitude for my work at the lighthouse.'\",\n",
        "        [\"A. Introduction\", \"B. Body\", \"C. Conclusion\"],\n",
        "        \"A\"\n",
        "    ),\n",
        "    Question(\n",
        "        \"Which part of the letter is the following: 'Ensuring that the light always shines brightly, guiding ships safely, has been a dedication of many years. Your recognition means a lot to me.'\",\n",
        "        [\"A. Introduction\", \"B. Body\", \"C. Conclusion\"],\n",
        "        \"B\"\n",
        "    ),\n",
        "    Question(\n",
        "        \"Which part of the letter is the following: 'Remember, the key to success is perseverance and commitment, no matter how tough the journey may seem. I hope you carry this lesson with you always.'\",\n",
        "        [\"A. Introduction\", \"B. Body\", \"C. Conclusion\"],\n",
        "        \"C\"\n",
        "    ),\n",
        "    Question(\n",
        "        \"What has been Mr. Elias's honor and duty?\",\n",
        "        [\"A. Teaching sailors\", \"B. Protecting sailors and ships from the dangerous rocks\", \"C. Building lighthouses\", \"D. Writing letters\"],\n",
        "        \"B\"\n",
        "    ),\n",
        "    Question(\n",
        "        \"What does the lighthouse symbolize according to Mr. Elias?\",\n",
        "        [\"A. Wealth and power\", \"B. Safety, perseverance, and tradition\", \"C. Innovation and technology\", \"D. Adventure and exploration\"],\n",
        "        \"B\"\n",
        "    ),\n",
        "    Question(\n",
        "        \"What does hearing that his story inspires the letter writer bring Mr. Elias?\",\n",
        "        [\"A. Sadness\", \"B. Joy\", \"C. Indifference\", \"D. Confusion\"],\n",
        "        \"B\"\n",
        "    ),\n",
        "    Question(\n",
        "        \"Who is learning the importance of hard work and dedication according to Mr. Elias?\",\n",
        "        [\"A. Mr. Elias's son\", \"B. Mr. Elias's neighbor\", \"C. Mr. Elias's grandson Jamie\", \"D. Mr. Elias's friend\"],\n",
        "        \"C\"\n",
        "    ),\n",
        "    Question(\n",
        "        \"What encourages Mr. Elias to continue his important work?\",\n",
        "        [\"A. The beauty of the sea\", \"B. The support and appreciation from others\", \"C. Financial rewards\", \"D. The desire to travel\"],\n",
        "        \"B\"\n",
        "    ),\n",
        "    Question(\n",
        "        \"What does Mr. Elias hope the lighthouse will remain with the community's support?\",\n",
        "        [\"A. A museum\", \"B. A beacon of hope and safety\", \"C. An abandoned structure\", \"D. A tourist attraction\"],\n",
        "        \"B\"\n",
        "    ),\n",
        "    Question(\n",
        "        \"What is the key to success according to Mr. Elias?\",\n",
        "        [\"A. Wealth and power\", \"B. Perseverance and commitment\", \"C. Innovation and technology\", \"D. Luck and opportunity\"],\n",
        "        \"B\"\n",
        "    )\n",
        "]\n",
        "\n",
        "def run_quiz(questions):\n",
        "    score = 0\n",
        "    for question in questions:\n",
        "        print(question.prompt)\n",
        "        for option in question.options:\n",
        "            print(option)\n",
        "        answer = input(\"Enter the correct option (A, B, C, or D): \").upper()\n",
        "        if answer == question.answer:\n",
        "            score += 1\n",
        "    print(f\"You got {score} out of {len(questions)} correct.\")\n",
        "\n",
        "if __name__ == \"__main__\":\n",
        "    run_quiz(questions)\n"
      ],
      "metadata": {
        "id": "ZveqAuE_SjJ7"
      },
      "execution_count": null,
      "outputs": []
    }
  ]
}